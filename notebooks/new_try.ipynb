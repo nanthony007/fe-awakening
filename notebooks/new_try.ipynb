{
 "metadata": {
  "language_info": {
   "codemirror_mode": {
    "name": "ipython",
    "version": 3
   },
   "file_extension": ".py",
   "mimetype": "text/x-python",
   "name": "python",
   "nbconvert_exporter": "python",
   "pygments_lexer": "ipython3",
   "version": "3.8.5-final"
  },
  "orig_nbformat": 2,
  "kernelspec": {
   "name": "python3",
   "display_name": "Python 3"
  }
 },
 "nbformat": 4,
 "nbformat_minor": 2,
 "cells": [
  {
   "cell_type": "code",
   "execution_count": 1,
   "metadata": {},
   "outputs": [],
   "source": [
    "import requests\n",
    "from bs4 import BeautifulSoup"
   ]
  },
  {
   "cell_type": "code",
   "execution_count": 4,
   "metadata": {},
   "outputs": [
    {
     "output_type": "execute_result",
     "data": {
      "text/plain": [
       "<table style=\"border-radius: 15px; -moz-border-radius: 15px; -webkit-border-radius: 15px; -khtml-border-radius: 15px; -icab-border-radius: 15px; -o-border-radius: 15px; border:5px double #b0b0b0; background: #222222; margin:2px; width: 100%;\">\n",
       "<tr>\n",
       "<th><big>Site News</big>\n",
       "</th></tr>\n",
       "<tr>\n",
       "<td><b>Warning:</b> This wiki contains <b>spoilers</b>. Read at your own risk!<br/>\n",
       "<p><b><a href=\"/wiki/Fire_Emblem_Wiki:Social_media\" title=\"Fire Emblem Wiki:Social media\">Social media</a>:</b> Get in touch with Fire Emblem Wiki on <span class=\"plainlinks\"><a class=\"external text\" href=\"https://twitter.com/FireEmblemWiki\" rel=\"nofollow\">Twitter</a>, <a class=\"external text\" href=\"https://www.facebook.com/fireemblemwiki\" rel=\"nofollow\">Facebook</a>, or <a class=\"external text\" href=\"https://discord.gg/2vda7Zy\" rel=\"nofollow\">Discord</a></span>!<br/>\n",
       "</p>\n",
       "</td></tr></table>"
      ]
     },
     "metadata": {},
     "execution_count": 4
    }
   ],
   "source": [
    "response = requests.get('https://fireemblemwiki.org/wiki/List_of_supports_in_Fire_Emblem_Awakening')\n",
    "soup = BeautifulSoup(response.content)\n",
    "soup.find('table')"
   ]
  },
  {
   "cell_type": "code",
   "execution_count": 21,
   "metadata": {},
   "outputs": [
    {
     "output_type": "execute_result",
     "data": {
      "text/plain": [
       "30"
      ]
     },
     "metadata": {},
     "execution_count": 21
    }
   ],
   "source": [
    "len('Character123456789101112131415')"
   ]
  },
  {
   "cell_type": "code",
   "execution_count": 22,
   "metadata": {},
   "outputs": [
    {
     "output_type": "execute_result",
     "data": {
      "text/plain": [
       "[\"Robin (M)LissaSullyMirielSumiaMaribellePanneCordeliaNowiTharjaOliviaChercheLucinaSay'riFlaviaAnnaKjelleCynthiaSeveraNoireNahTikiEmmerynAversa\",\n",
       " \"Robin (F)ChromFrederickVirionVaikeStahlKellamLon'quRickenGaiusGregorLibraHenryBasilioDonnelOwainInigoBradyGeromeYarneLaurentGangrelWalhartYen'fayPriam------------ChromRobin (F)SullySumiaMaribelleOlivia\",\n",
       " \"------LissaRobin (M)FrederickVirionVaikeStahlKellamLon'quRickenGaiusGregorLibraHenryDonnel----FrederickRobin (F)LissaSullyMirielSumiaMaribellePanneCordeliaNowiTharjaOliviaCherche------VirionRobin (F)LissaSullyMirielMaribellePanneCordeliaNowiTharjaOliviaCherche--------SullyRobin (M)ChromFrederickVirionVaikeStahlKellamLon'quRickenGaiusGregorLibraHenryDonnel--VaikeRobin (F)LissaSullyMirielMaribellePanneCordeliaNowiTharjaOliviaCherche--------StahlRobin (F)LissaSullyMirielMaribellePanneCordeliaNowiTharjaOliviaCherche--------MirielRobin (M)FrederickVirionVaikeStahlKellamLon'quRickenGaiusGregorLibraHenryDonnel----KellamRobin (F)LissaSullyMirielMaribellePanneCordeliaNowiTharjaOliviaCherche--------SumiaRobin (M)ChromFrederickGaiusHenry\",\n",
       " \"------Lon'quRobin (F)LissaSullyMirielMaribellePanneCordeliaNowiTharjaOliviaCherche--------RickenRobin (F)LissaSullyMirielMaribellePanneCordeliaNowiTharjaOliviaCherche--------MaribelleRobin (M)ChromFrederickVirionVaikeStahlKellamLon'quRickenGaiusGregorLibraHenryDonnel--PanneRobin (M)FrederickVirionVaikeStahlKellamLon'quRickenGaiusGregorLibraHenryDonnel----GaiusRobin (F)LissaSullyMirielSumiaMaribellePanneCordeliaNowiTharjaOliviaCherche------CordeliaRobin (M)FrederickVirionVaikeStahlKellamLon'quRickenGaiusGregorLibraHenryDonnel----GregorRobin (F)LissaSullyMirielMaribellePanneCordeliaNowiTharjaOliviaCherche--------NowiRobin (M)FrederickVirionVaikeStahlKellamLon'quRickenGaiusGregorLibraHenryDonnel----LibraRobin (F)LissaSullyMirielMaribellePanneCordeliaNowiTharjaOliviaCherche--------TharjaRobin (M)FrederickVirionVaikeStahlKellamLon'quRickenGaiusGregorLibraHenryDonnel----OliviaRobin (M)ChromFrederickVirionVaikeStahlKellamLon'quRickenGaiusGregorLibraHenryDonnel--ChercheRobin (M)FrederickVirionVaikeStahlKellamLon'quRickenGaiusGregorLibraHenryDonnel----HenryRobin (F)LissaSullyMirielSumiaMaribellePanneCordeliaNowiTharjaOliviaCherche------LucinaRobin (M)OwainInigoBradyGeromeMorgan (M)YarneLaurent\",\n",
       " \"Say'riRobin (M)\",\n",
       " '',\n",
       " 'BasilioRobin (F)',\n",
       " '',\n",
       " 'FlaviaRobin (M)',\n",
       " '',\n",
       " 'DonnelRobin (F)LissaSullyMirielMaribellePanneCordeliaNowiTharjaOliviaCherche--------AnnaRobin (M)',\n",
       " '',\n",
       " 'OwainRobin (F)LucinaKjelleCynthiaSeveraMorgan (F)NoireNah',\n",
       " 'InigoRobin (F)LucinaKjelleCynthiaSeveraMorgan (F)NoireNah',\n",
       " 'BradyRobin (F)LucinaKjelleCynthiaSeveraMorgan (F)NoireNah',\n",
       " 'KjelleRobin (M)OwainInigoBradyGeromeMorgan (M)YarneLaurent',\n",
       " 'CynthiaRobin (M)OwainInigoBradyGeromeMorgan (M)YarneLaurent',\n",
       " 'SeveraRobin (M)OwainInigoBradyGeromeMorgan (M)YarneLaurent',\n",
       " 'GeromeRobin (F)LucinaKjelleCynthiaSeveraMorgan (F)NoireNah',\n",
       " 'Morgan (M)LucinaKjelleCynthiaSeveraNoireNah',\n",
       " '----Morgan (F)OwainInigoBradyGeromeYarneLaurent',\n",
       " '----YarneRobin (F)LucinaKjelleCynthiaSeveraMorgan (F)NoireNah',\n",
       " 'LaurentRobin (F)LucinaKjelleCynthiaSeveraMorgan (F)NoireNah',\n",
       " 'NoireRobin (M)OwainInigoBradyGeromeMorgan (M)YarneLaurent',\n",
       " 'NahRobin (M)OwainInigoBradyGeromeMorgan (M)YarneLaurent',\n",
       " 'TikiRobin (M)',\n",
       " '',\n",
       " 'GangrelRobin (F)',\n",
       " '',\n",
       " 'WalhartRobin (F)',\n",
       " '',\n",
       " 'EmmerynRobin (M)',\n",
       " '',\n",
       " \"Yen'fayRobin (F)\",\n",
       " '',\n",
       " 'AversaRobin (M)',\n",
       " '',\n",
       " 'PriamRobin (F)',\n",
       " '',\n",
       " '']"
      ]
     },
     "metadata": {},
     "execution_count": 22
    }
   ],
   "source": [
    "soup.find_all('table')[1].tbody.text.strip().replace('\\n', '')[30:].split('--------------')"
   ]
  },
  {
   "cell_type": "code",
   "execution_count": null,
   "metadata": {},
   "outputs": [],
   "source": []
  }
 ]
}