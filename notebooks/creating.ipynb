{
 "cells": [
  {
   "cell_type": "code",
   "execution_count": 9,
   "id": "moved-journalism",
   "metadata": {},
   "outputs": [],
   "source": [
    "import pandas as pd\n",
    "from collections import defaultdict"
   ]
  },
  {
   "cell_type": "code",
   "execution_count": 3,
   "id": "plastic-poker",
   "metadata": {},
   "outputs": [
    {
     "data": {
      "text/html": [
       "<div>\n",
       "<style scoped>\n",
       "    .dataframe tbody tr th:only-of-type {\n",
       "        vertical-align: middle;\n",
       "    }\n",
       "\n",
       "    .dataframe tbody tr th {\n",
       "        vertical-align: top;\n",
       "    }\n",
       "\n",
       "    .dataframe thead th {\n",
       "        text-align: right;\n",
       "    }\n",
       "</style>\n",
       "<table border=\"1\" class=\"dataframe\">\n",
       "  <thead>\n",
       "    <tr style=\"text-align: right;\">\n",
       "      <th></th>\n",
       "      <th>Character</th>\n",
       "      <th>MarryOptions</th>\n",
       "    </tr>\n",
       "  </thead>\n",
       "  <tbody>\n",
       "    <tr>\n",
       "      <th>0</th>\n",
       "      <td>Chrom</td>\n",
       "      <td>Sully-Sumia-Maribelle-Olivia-Avatar (F)</td>\n",
       "    </tr>\n",
       "    <tr>\n",
       "      <th>1</th>\n",
       "      <td>Avatar (F)</td>\n",
       "      <td>NaN</td>\n",
       "    </tr>\n",
       "    <tr>\n",
       "      <th>2</th>\n",
       "      <td>Avatar (M)</td>\n",
       "      <td>NaN</td>\n",
       "    </tr>\n",
       "    <tr>\n",
       "      <th>3</th>\n",
       "      <td>Lissa</td>\n",
       "      <td>NaN</td>\n",
       "    </tr>\n",
       "    <tr>\n",
       "      <th>4</th>\n",
       "      <td>Olivia</td>\n",
       "      <td>Chrom</td>\n",
       "    </tr>\n",
       "  </tbody>\n",
       "</table>\n",
       "</div>"
      ],
      "text/plain": [
       "    Character                             MarryOptions\n",
       "0       Chrom  Sully-Sumia-Maribelle-Olivia-Avatar (F)\n",
       "1  Avatar (F)                                      NaN\n",
       "2  Avatar (M)                                      NaN\n",
       "3       Lissa                                      NaN\n",
       "4      Olivia                                    Chrom"
      ]
     },
     "execution_count": 3,
     "metadata": {},
     "output_type": "execute_result"
    }
   ],
   "source": [
    "df = pd.read_csv('../data/marriages.csv')\n",
    "df.head()"
   ]
  },
  {
   "cell_type": "code",
   "execution_count": 36,
   "id": "refined-fundamental",
   "metadata": {},
   "outputs": [],
   "source": [
    "partners = defaultdict(set)\n",
    "for i, row in df.iterrows():\n",
    "    choices = row['MarryOptions'].split('-') if not pd.isna(row['MarryOptions']) else None\n",
    "    if choices:\n",
    "        for c in choices:\n",
    "            partners[row['Character']].add(c)\n",
    "            partners[c].add(row['Character'])\n",
    "\n",
    "p = defaultdict(list)\n",
    "for k, v in partners.items():\n",
    "    p['Character'].append(k)\n",
    "    p['MarriageOptions'].append('-'.join(list(v)))\n",
    "\n",
    "\n",
    "pd.DataFrame.from_dict(p).to_csv('marriages2.csv', index=False)"
   ]
  },
  {
   "cell_type": "code",
   "execution_count": 28,
   "id": "regular-connectivity",
   "metadata": {},
   "outputs": [
    {
     "name": "stdout",
     "output_type": "stream",
     "text": [
      "Chrom Sumia-Olivia-Maribelle-Avatar (F)-Sully\n",
      "Sully Henry-Gregor-Libra-Vaike-Lonqu-Gaius-Ricken-Frederick-Kellam-Donnel-Virion-Stahl-Chrom\n",
      "Sumia Henry-Frederick-Gaius-Chrom\n",
      "Maribelle Henry-Gregor-Libra-Vaike-Lonqu-Gaius-Ricken-Frederick-Kellam-Donnel-Virion-Stahl-Chrom\n",
      "Olivia Henry-Gregor-Libra-Vaike-Lonqu-Gaius-Ricken-Frederick-Kellam-Donnel-Virion-Stahl-Chrom\n",
      "Avatar (F) Chrom\n",
      "Frederick Cherche-Miriel-Cordelia-Sumia-Nowi-Olivia-Panne-Tharja-Maribelle-Lissa-Sully\n",
      "Gaius Cherche-Miriel-Cordelia-Sumia-Nowi-Olivia-Panne-Tharja-Maribelle-Lissa-Sully\n",
      "Henry Cherche-Miriel-Cordelia-Sumia-Nowi-Olivia-Panne-Tharja-Maribelle-Lissa-Sully\n",
      "Lissa Henry-Gregor-Libra-Vaike-Lonqu-Gaius-Ricken-Frederick-Kellam-Donnel-Virion-Stahl\n",
      "Miriel Henry-Gregor-Libra-Vaike-Lonqu-Gaius-Ricken-Frederick-Kellam-Donnel-Virion-Stahl\n",
      "Panne Henry-Gregor-Libra-Vaike-Lonqu-Gaius-Ricken-Frederick-Kellam-Donnel-Virion-Stahl\n",
      "Cordelia Henry-Gregor-Libra-Vaike-Lonqu-Gaius-Ricken-Frederick-Kellam-Donnel-Virion-Stahl\n",
      "Nowi Henry-Gregor-Libra-Vaike-Lonqu-Gaius-Ricken-Frederick-Kellam-Donnel-Virion-Stahl\n",
      "Tharja Henry-Gregor-Libra-Vaike-Lonqu-Gaius-Ricken-Frederick-Kellam-Donnel-Virion-Stahl\n",
      "Cherche Henry-Gregor-Libra-Vaike-Lonqu-Gaius-Ricken-Frederick-Kellam-Donnel-Virion-Stahl\n",
      "Virion Cherche-Miriel-Cordelia-Olivia-Nowi-Panne-Tharja-Maribelle-Lissa-Sully\n",
      "Stahl Cherche-Miriel-Cordelia-Olivia-Nowi-Panne-Tharja-Maribelle-Lissa-Sully\n",
      "Vaike Cherche-Miriel-Cordelia-Olivia-Nowi-Panne-Tharja-Maribelle-Lissa-Sully\n",
      "Kellam Cherche-Miriel-Cordelia-Olivia-Nowi-Panne-Tharja-Maribelle-Lissa-Sully\n",
      "Lonqu Cherche-Miriel-Cordelia-Olivia-Nowi-Panne-Tharja-Maribelle-Lissa-Sully\n",
      "Ricken Cherche-Miriel-Cordelia-Olivia-Nowi-Panne-Tharja-Maribelle-Lissa-Sully\n",
      "Donnel Cherche-Miriel-Cordelia-Olivia-Nowi-Panne-Tharja-Maribelle-Lissa-Sully\n",
      "Gregor Cherche-Miriel-Cordelia-Olivia-Nowi-Panne-Tharja-Maribelle-Lissa-Sully\n",
      "Libra Cherche-Miriel-Cordelia-Olivia-Nowi-Panne-Tharja-Maribelle-Lissa-Sully\n",
      "Owain Kjelle-Noire-Severa-Cynthia-Nah-Morgan (F)-Lucina\n",
      "Lucina Inigo-Owain-Laurent-Morgan (M)-Brady-Yarne-Gerome\n",
      "Kjelle Inigo-Owain-Laurent-Morgan (M)-Brady-Yarne-Gerome\n",
      "Cynthia Inigo-Owain-Laurent-Morgan (M)-Brady-Yarne-Gerome\n",
      "Severa Inigo-Owain-Laurent-Morgan (M)-Brady-Yarne-Gerome\n",
      "Morgan (F) Inigo-Owain-Laurent-Brady-Yarne-Gerome\n",
      "Noire Inigo-Owain-Laurent-Morgan (M)-Brady-Yarne-Gerome\n",
      "Nah Inigo-Owain-Laurent-Morgan (M)-Brady-Yarne-Gerome\n",
      "Inigo Kjelle-Noire-Severa-Cynthia-Nah-Morgan (F)-Lucina\n",
      "Brady Kjelle-Noire-Severa-Cynthia-Nah-Morgan (F)-Lucina\n",
      "Gerome Kjelle-Noire-Severa-Cynthia-Nah-Morgan (F)-Lucina\n",
      "Morgan (M) Kjelle-Noire-Severa-Cynthia-Nah-Lucina\n",
      "Yarne Kjelle-Noire-Severa-Cynthia-Nah-Morgan (F)-Lucina\n",
      "Laurent Kjelle-Noire-Severa-Cynthia-Nah-Morgan (F)-Lucina\n"
     ]
    }
   ],
   "source": [
    "for k, v in partners.items():\n",
    "    print(k, '-'.join(list(v)))"
   ]
  },
  {
   "cell_type": "code",
   "execution_count": 18,
   "id": "revolutionary-definition",
   "metadata": {},
   "outputs": [
    {
     "data": {
      "text/plain": [
       "{'Cynthia', 'Kjelle', 'Lucina', 'Morgan (F)', 'Nah', 'Noire', 'Severa'}"
      ]
     },
     "execution_count": 18,
     "metadata": {},
     "output_type": "execute_result"
    }
   ],
   "source": [
    "all_names = set()\n",
    "for x in df.MarryOptions.values:\n",
    "    if not pd.isna(x):\n",
    "        partners = x.split('-')\n",
    "        for name in names:\n",
    "            all_names.add(name)\n",
    "all_names"
   ]
  },
  {
   "cell_type": "code",
   "execution_count": 8,
   "id": "growing-transparency",
   "metadata": {},
   "outputs": [
    {
     "data": {
      "text/plain": [
       "{'Kjelle': '',\n",
       " 'Severa': '',\n",
       " 'Panne': '',\n",
       " 'Morgan (F)': '',\n",
       " 'Lucina': '',\n",
       " 'Sully': '',\n",
       " 'Olivia': '',\n",
       " 'Maribelle': '',\n",
       " 'Avatar (F)': '',\n",
       " 'Noire': '',\n",
       " 'Miriel': '',\n",
       " 'Tharja': '',\n",
       " 'Nah': '',\n",
       " 'Frederick': '',\n",
       " 'Henry': '',\n",
       " 'Cherche': '',\n",
       " 'Cynthia': '',\n",
       " 'Cordelia': '',\n",
       " 'Sumia': '',\n",
       " 'Nowi': '',\n",
       " 'Gaius': '',\n",
       " 'Lissa': '',\n",
       " 'Chrom': ''}"
      ]
     },
     "execution_count": 8,
     "metadata": {},
     "output_type": "execute_result"
    }
   ],
   "source": [
    "partners = dict()\n",
    "for n in all_names:\n",
    "    partners[n] = ''\n",
    "partners"
   ]
  },
  {
   "cell_type": "code",
   "execution_count": null,
   "id": "interim-devon",
   "metadata": {},
   "outputs": [],
   "source": []
  }
 ],
 "metadata": {
  "kernelspec": {
   "display_name": "Python 3",
   "language": "python",
   "name": "python3"
  },
  "language_info": {
   "codemirror_mode": {
    "name": "ipython",
    "version": 3
   },
   "file_extension": ".py",
   "mimetype": "text/x-python",
   "name": "python",
   "nbconvert_exporter": "python",
   "pygments_lexer": "ipython3",
   "version": "3.9.2"
  }
 },
 "nbformat": 4,
 "nbformat_minor": 5
}
