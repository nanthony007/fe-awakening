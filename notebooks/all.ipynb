{
 "cells": [
  {
   "cell_type": "code",
   "execution_count": 1,
   "metadata": {
    "ExecuteTime": {
     "end_time": "2020-10-29T14:04:29.353215Z",
     "start_time": "2020-10-29T14:04:28.817033Z"
    }
   },
   "outputs": [],
   "source": [
    "import pandas as pd"
   ]
  },
  {
   "cell_type": "code",
   "execution_count": 55,
   "metadata": {
    "ExecuteTime": {
     "end_time": "2020-10-29T15:00:39.878752Z",
     "start_time": "2020-10-29T15:00:39.865898Z"
    }
   },
   "outputs": [
    {
     "data": {
      "text/html": [
       "<div>\n",
       "<style scoped>\n",
       "    .dataframe tbody tr th:only-of-type {\n",
       "        vertical-align: middle;\n",
       "    }\n",
       "\n",
       "    .dataframe tbody tr th {\n",
       "        vertical-align: top;\n",
       "    }\n",
       "\n",
       "    .dataframe thead th {\n",
       "        text-align: right;\n",
       "    }\n",
       "</style>\n",
       "<table border=\"1\" class=\"dataframe\">\n",
       "  <thead>\n",
       "    <tr style=\"text-align: right;\">\n",
       "      <th></th>\n",
       "      <th>First</th>\n",
       "      <th>Partner</th>\n",
       "    </tr>\n",
       "  </thead>\n",
       "  <tbody>\n",
       "    <tr>\n",
       "      <th>0</th>\n",
       "      <td>Robin (M)</td>\n",
       "      <td>Lissa</td>\n",
       "    </tr>\n",
       "    <tr>\n",
       "      <th>1</th>\n",
       "      <td>Robin (M)</td>\n",
       "      <td>Sully</td>\n",
       "    </tr>\n",
       "    <tr>\n",
       "      <th>2</th>\n",
       "      <td>Robin (M)</td>\n",
       "      <td>Miriel</td>\n",
       "    </tr>\n",
       "    <tr>\n",
       "      <th>3</th>\n",
       "      <td>Robin (M)</td>\n",
       "      <td>Sumia</td>\n",
       "    </tr>\n",
       "    <tr>\n",
       "      <th>4</th>\n",
       "      <td>Robin (M)</td>\n",
       "      <td>Maribelle</td>\n",
       "    </tr>\n",
       "  </tbody>\n",
       "</table>\n",
       "</div>"
      ],
      "text/plain": [
       "       First    Partner\n",
       "0  Robin (M)      Lissa\n",
       "1  Robin (M)      Sully\n",
       "2  Robin (M)     Miriel\n",
       "3  Robin (M)      Sumia\n",
       "4  Robin (M)  Maribelle"
      ]
     },
     "execution_count": 55,
     "metadata": {},
     "output_type": "execute_result"
    }
   ],
   "source": [
    "main = pd.read_csv('data/all_pairs.csv')\n",
    "main.head()"
   ]
  },
  {
   "cell_type": "markdown",
   "metadata": {},
   "source": [
    "For each row select that row and detect remaining possible pairs."
   ]
  },
  {
   "cell_type": "code",
   "execution_count": 72,
   "metadata": {
    "ExecuteTime": {
     "end_time": "2020-10-29T15:21:21.250298Z",
     "start_time": "2020-10-29T15:21:21.244086Z"
    }
   },
   "outputs": [
    {
     "data": {
      "text/plain": [
       "{'Cherche',\n",
       " 'Chrom',\n",
       " 'Cordelia',\n",
       " 'Lissa',\n",
       " 'Maribelle',\n",
       " 'Miriel',\n",
       " 'Nowi',\n",
       " 'Olivia',\n",
       " 'Panne',\n",
       " 'Robin (F)',\n",
       " 'Robin (M)',\n",
       " 'Sully',\n",
       " 'Sumia',\n",
       " 'Tharja'}"
      ]
     },
     "execution_count": 72,
     "metadata": {},
     "output_type": "execute_result"
    }
   ],
   "source": [
    "parents = set(\n",
    "    [\n",
    "        'Chrom', 'Robin (M)', 'Robin (F)', 'Lissa', 'Sully', 'Miriel',\n",
    "        'Sumia', 'Maribelle', 'Panne', 'Cordelia', 'Nowi', 'Tharja',\n",
    "        'Olivia', 'Cherche'\n",
    "    ]\n",
    ")"
   ]
  },
  {
   "cell_type": "code",
   "execution_count": 73,
   "metadata": {
    "ExecuteTime": {
     "end_time": "2020-10-29T15:33:33.490182Z",
     "start_time": "2020-10-29T15:33:33.485847Z"
    }
   },
   "outputs": [],
   "source": [
    "def parent(p1, p2, df, parent_set):\n",
    "    # makes a new df!\n",
    "    # Partners two units and removes them from the df\n",
    "    removal_indeces = []\n",
    "    for i, row in df.iterrows():\n",
    "        if row.First == p1 or row.First == p2 or row.Partner == p1 or row.Partner == p2:\n",
    "            removal_indeces.append(i)\n",
    "    removed = df.drop(removal_indeces)\n",
    "    removed.reset_index(drop=True, inplace=True)\n",
    "    #print(f\"{p1} and {p2} paired.\")\n",
    "    #print(f\"Removed {len(removal_indeces)} corresponding entries.\\n\")\n",
    "    \n",
    "    # need a way to identify maximum children for each pairing\n",
    "\n",
    "    \n",
    "    return dict(???, pairing=f\"{p1}-{p2}\", df=removed)"
   ]
  },
  {
   "cell_type": "code",
   "execution_count": 74,
   "metadata": {
    "ExecuteTime": {
     "end_time": "2020-10-29T15:53:10.326331Z",
     "start_time": "2020-10-29T15:53:10.322285Z"
    }
   },
   "outputs": [],
   "source": [
    "def mate(p1, p2, df):\n",
    "    # makes a new df!\n",
    "    # Partners two units and removes them from the df\n",
    "    removal_indeces = []\n",
    "    for i, row in df.iterrows():\n",
    "        if row.First == p1 or row.First == p2 or row.Partner == p1 or row.Partner == p2:\n",
    "            removal_indeces.append(i)\n",
    "    removed = df.drop(removal_indeces)\n",
    "    removed.reset_index(drop=True, inplace=True)\n",
    "    #print(f\"{p1} and {p2} paired.\")\n",
    "    #print(f\"Removed {len(removal_indeces)} corresponding entries.\\n\")\n",
    "    return dict(remaining_pairs=len(removed) / 2, pairing=f\"{p1}-{p2}\", df=removed)"
   ]
  },
  {
   "cell_type": "code",
   "execution_count": 75,
   "metadata": {
    "ExecuteTime": {
     "end_time": "2020-10-29T15:53:29.380085Z",
     "start_time": "2020-10-29T15:53:11.668967Z"
    },
    "scrolled": true
   },
   "outputs": [
    {
     "data": {
      "text/plain": [
       "('Chrom-Sumia', 213.0)"
      ]
     },
     "execution_count": 75,
     "metadata": {},
     "output_type": "execute_result"
    }
   ],
   "source": [
    "def simulate(df, toggle):    \n",
    "    sims = []\n",
    "    \n",
    "    if toggle == 'mate':\n",
    "        for i, row in df.iterrows():\n",
    "            d = mate(row.First, row.Partner, main)\n",
    "            sims.append((d['pairing'], d['remaining_pairs']))\n",
    "\n",
    "        return next((p for p in sims if p[1] == max((x[1] for x in sims))))\n",
    "    \n",
    "    elif toggle == 'parent':\n",
    "        return '...'\n",
    "\n",
    "\n",
    "simulate(main, 'mate')"
   ]
  },
  {
   "cell_type": "code",
   "execution_count": 76,
   "metadata": {
    "ExecuteTime": {
     "end_time": "2020-10-29T15:53:29.397542Z",
     "start_time": "2020-10-29T15:53:29.393766Z"
    }
   },
   "outputs": [],
   "source": [
    "def run_search(data, toggle):\n",
    "    copied = data.copy()\n",
    "    \n",
    "    found_pairs = []\n",
    "\n",
    "    iterations = 0\n",
    "    \n",
    "    if toggle == 'mate':\n",
    "        while True:\n",
    "            if len(copied) == 0:\n",
    "                break\n",
    "\n",
    "            print(f\"Running round... {iterations + 1}\")\n",
    "\n",
    "            # simulate pairings\n",
    "            most_important = simulate(copied, toggle)\n",
    "            top_pair = most_important[0].split('-')\n",
    "\n",
    "            print(f\"Selected pairing: {most_important[0]}\")\n",
    "\n",
    "            # officially mate\n",
    "            d = mate(top_pair[0], top_pair[1], copied)\n",
    "            copied = d['df']\n",
    "\n",
    "            found_pairs.append(top_pair)\n",
    "            iterations += 1\n",
    "            \n",
    "    elif toggle == 'parent':\n",
    "        pass\n",
    "    return found_pairs\n"
   ]
  },
  {
   "cell_type": "code",
   "execution_count": 77,
   "metadata": {
    "ExecuteTime": {
     "end_time": "2020-10-29T15:56:33.051063Z",
     "start_time": "2020-10-29T15:53:29.423315Z"
    }
   },
   "outputs": [
    {
     "name": "stdout",
     "output_type": "stream",
     "text": [
      "Running round... 1\n",
      "Selected pairing: Chrom-Sumia\n",
      "Running round... 2\n",
      "Selected pairing: Lucina-Morgan (M)\n",
      "Running round... 3\n",
      "Selected pairing: Owain-Morgan (F)\n",
      "Running round... 4\n",
      "Selected pairing: Inigo-Kjelle\n",
      "Running round... 5\n",
      "Selected pairing: Brady-Cynthia\n",
      "Running round... 6\n",
      "Selected pairing: Gerome-Severa\n",
      "Running round... 7\n",
      "Selected pairing: Yarne-Noire\n",
      "Running round... 8\n",
      "Selected pairing: Laurent-Nah\n",
      "Running round... 9\n",
      "Selected pairing: Lissa-Gaius\n",
      "Running round... 10\n",
      "Selected pairing: Gauis-Miriel\n",
      "Running round... 11\n",
      "Selected pairing: Robin (M)-Say'ri\n",
      "Running round... 12\n",
      "Selected pairing: Virion-Panne\n",
      "Running round... 13\n",
      "Selected pairing: Vaike-Cordelia\n",
      "Running round... 14\n",
      "Selected pairing: Stahl-Nowi\n",
      "Running round... 15\n",
      "Selected pairing: Kellam-Tharja\n",
      "Running round... 16\n",
      "Selected pairing: Lon'qu-Cherche\n",
      "Running round... 17\n",
      "Selected pairing: Robin (F)-Basilio\n",
      "Running round... 18\n",
      "Selected pairing: Ricken-Sully\n",
      "Running round... 19\n",
      "Selected pairing: Gregor-Maribelle\n",
      "Running round... 20\n",
      "Selected pairing: Libra-Olivia\n"
     ]
    },
    {
     "data": {
      "text/plain": [
       "[['Chrom', 'Sumia'],\n",
       " ['Lucina', 'Morgan (M)'],\n",
       " ['Owain', 'Morgan (F)'],\n",
       " ['Inigo', 'Kjelle'],\n",
       " ['Brady', 'Cynthia'],\n",
       " ['Gerome', 'Severa'],\n",
       " ['Yarne', 'Noire'],\n",
       " ['Laurent', 'Nah'],\n",
       " ['Lissa', 'Gaius'],\n",
       " ['Gauis', 'Miriel'],\n",
       " ['Robin (M)', \"Say'ri\"],\n",
       " ['Virion', 'Panne'],\n",
       " ['Vaike', 'Cordelia'],\n",
       " ['Stahl', 'Nowi'],\n",
       " ['Kellam', 'Tharja'],\n",
       " [\"Lon'qu\", 'Cherche'],\n",
       " ['Robin (F)', 'Basilio'],\n",
       " ['Ricken', 'Sully'],\n",
       " ['Gregor', 'Maribelle'],\n",
       " ['Libra', 'Olivia']]"
      ]
     },
     "execution_count": 77,
     "metadata": {},
     "output_type": "execute_result"
    }
   ],
   "source": [
    "run_search(main, 'mate')"
   ]
  },
  {
   "cell_type": "code",
   "execution_count": null,
   "metadata": {},
   "outputs": [],
   "source": []
  }
 ],
 "metadata": {
  "hide_input": false,
  "kernelspec": {
   "display_name": "Python 3",
   "language": "python",
   "name": "python3"
  },
  "language_info": {
   "codemirror_mode": {
    "name": "ipython",
    "version": 3
   },
   "file_extension": ".py",
   "mimetype": "text/x-python",
   "name": "python",
   "nbconvert_exporter": "python",
   "pygments_lexer": "ipython3",
   "version": "3.8.5"
  },
  "toc": {
   "base_numbering": 1,
   "nav_menu": {},
   "number_sections": true,
   "sideBar": true,
   "skip_h1_title": false,
   "title_cell": "Table of Contents",
   "title_sidebar": "Contents",
   "toc_cell": false,
   "toc_position": {},
   "toc_section_display": true,
   "toc_window_display": false
  },
  "varInspector": {
   "cols": {
    "lenName": 16,
    "lenType": 16,
    "lenVar": 40
   },
   "kernels_config": {
    "python": {
     "delete_cmd_postfix": "",
     "delete_cmd_prefix": "del ",
     "library": "var_list.py",
     "varRefreshCmd": "print(var_dic_list())"
    },
    "r": {
     "delete_cmd_postfix": ") ",
     "delete_cmd_prefix": "rm(",
     "library": "var_list.r",
     "varRefreshCmd": "cat(var_dic_list()) "
    }
   },
   "types_to_exclude": [
    "module",
    "function",
    "builtin_function_or_method",
    "instance",
    "_Feature"
   ],
   "window_display": false
  }
 },
 "nbformat": 4,
 "nbformat_minor": 2
}
